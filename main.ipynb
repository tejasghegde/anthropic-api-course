{
 "cells": [
  {
   "cell_type": "code",
   "execution_count": 1,
   "id": "cd079936",
   "metadata": {},
   "outputs": [
    {
     "name": "stdout",
     "output_type": "stream",
     "text": [
      "Requirement already satisfied: anthropic in /Library/Frameworks/Python.framework/Versions/3.13/lib/python3.13/site-packages (0.60.0)\n",
      "Requirement already satisfied: python-dotenv in /Library/Frameworks/Python.framework/Versions/3.13/lib/python3.13/site-packages (1.0.0)\n",
      "Requirement already satisfied: anyio<5,>=3.5.0 in /Library/Frameworks/Python.framework/Versions/3.13/lib/python3.13/site-packages (from anthropic) (4.9.0)\n",
      "Requirement already satisfied: distro<2,>=1.7.0 in /Library/Frameworks/Python.framework/Versions/3.13/lib/python3.13/site-packages (from anthropic) (1.9.0)\n",
      "Requirement already satisfied: httpx<1,>=0.25.0 in /Library/Frameworks/Python.framework/Versions/3.13/lib/python3.13/site-packages (from anthropic) (0.28.1)\n",
      "Requirement already satisfied: jiter<1,>=0.4.0 in /Library/Frameworks/Python.framework/Versions/3.13/lib/python3.13/site-packages (from anthropic) (0.10.0)\n",
      "Requirement already satisfied: pydantic<3,>=1.9.0 in /Library/Frameworks/Python.framework/Versions/3.13/lib/python3.13/site-packages (from anthropic) (2.10.6)\n",
      "Requirement already satisfied: sniffio in /Library/Frameworks/Python.framework/Versions/3.13/lib/python3.13/site-packages (from anthropic) (1.3.1)\n",
      "Requirement already satisfied: typing-extensions<5,>=4.10 in /Library/Frameworks/Python.framework/Versions/3.13/lib/python3.13/site-packages (from anthropic) (4.12.2)\n",
      "Requirement already satisfied: idna>=2.8 in /Library/Frameworks/Python.framework/Versions/3.13/lib/python3.13/site-packages (from anyio<5,>=3.5.0->anthropic) (3.10)\n",
      "Requirement already satisfied: certifi in /Library/Frameworks/Python.framework/Versions/3.13/lib/python3.13/site-packages (from httpx<1,>=0.25.0->anthropic) (2025.1.31)\n",
      "Requirement already satisfied: httpcore==1.* in /Library/Frameworks/Python.framework/Versions/3.13/lib/python3.13/site-packages (from httpx<1,>=0.25.0->anthropic) (1.0.9)\n",
      "Requirement already satisfied: h11>=0.16 in /Library/Frameworks/Python.framework/Versions/3.13/lib/python3.13/site-packages (from httpcore==1.*->httpx<1,>=0.25.0->anthropic) (0.16.0)\n",
      "Requirement already satisfied: annotated-types>=0.6.0 in /Library/Frameworks/Python.framework/Versions/3.13/lib/python3.13/site-packages (from pydantic<3,>=1.9.0->anthropic) (0.7.0)\n",
      "Requirement already satisfied: pydantic-core==2.27.2 in /Library/Frameworks/Python.framework/Versions/3.13/lib/python3.13/site-packages (from pydantic<3,>=1.9.0->anthropic) (2.27.2)\n",
      "Note: you may need to restart the kernel to use updated packages.\n"
     ]
    }
   ],
   "source": [
    "%pip install anthropic python-dotenv"
   ]
  },
  {
   "cell_type": "code",
   "execution_count": 18,
   "id": "90aa7314",
   "metadata": {},
   "outputs": [],
   "source": [
    "from anthropic import Anthropic\n",
    "from dotenv import load_dotenv\n",
    "import os\n",
    "\n",
    "load_dotenv()\n",
    "\n",
    "client = Anthropic(api_key=os.getenv(\"ANTHROPIC_API_KEY\"))\n",
    "model = \"claude-3-5-sonnet-20241022\"\n",
    "\n",
    "messages = []\n"
   ]
  },
  {
   "cell_type": "markdown",
   "id": "c694d73e",
   "metadata": {
    "vscode": {
     "languageId": "raw"
    }
   },
   "source": [
    "## Available Claude Models (2025)\n",
    "\n",
    "**Recommended models by use case:**\n",
    "\n",
    "- **`claude-3-5-sonnet-20241022`** (Current) - Excellent balance of capability and cost\n",
    "- **`claude-4-sonnet`** - Latest with best reasoning (more expensive)  \n",
    "- **`claude-3-7-sonnet`** - Hybrid reasoning with extended thinking\n",
    "- **`claude-3-5-haiku`** - Faster and cheaper for simpler tasks\n",
    "\n",
    "You can change the `model` variable above to try different models!\n"
   ]
  },
  {
   "cell_type": "code",
   "execution_count": 19,
   "id": "7124f3a9",
   "metadata": {},
   "outputs": [],
   "source": [
    "def add_user_message(messages, text):\n",
    "    user_message = {\n",
    "        \"role\": \"user\",\n",
    "        \"content\": text\n",
    "    }\n",
    "    messages.append(user_message)\n",
    "\n",
    "def add_assistant_message(messages, text):\n",
    "    assistant_message = {\n",
    "        \"role\": \"assistant\",\n",
    "        \"content\": text\n",
    "    }\n",
    "    messages.append(assistant_message)\n",
    "\n",
    "def chat(messages, system = None, temperature = 1.0):\n",
    "    params = {\n",
    "        \"model\": model,\n",
    "        \"max_tokens\": 1000,\n",
    "        \"messages\": messages,\n",
    "        \"temperature\": temperature\n",
    "    }\n",
    "    if system:\n",
    "        params[\"system\"] = system\n",
    "\n",
    "    message = client.messages.create(**params)\n",
    "    return message.content[0].text"
   ]
  },
  {
   "cell_type": "code",
   "execution_count": 20,
   "id": "90e17c73",
   "metadata": {},
   "outputs": [
    {
     "name": "stdout",
     "output_type": "stream",
     "text": [
      "[{'role': 'user', 'content': 'Hello, how are you?'}, {'role': 'assistant', 'content': \"Hi! I'm doing well, thanks for asking. How are you today?\"}, {'role': 'user', 'content': 'What is the capital of France?'}, {'role': 'assistant', 'content': 'The capital of France is Paris. It is the largest city in France and one of the most important cultural, economic, and political centers in Europe. Paris is known for its iconic landmarks such as the Eiffel Tower, the Louvre Museum, Notre-Dame Cathedral, and the Arc de Triomphe.'}, {'role': 'user', 'content': 'What is the capital of India?'}, {'role': 'assistant', 'content': 'The capital of India is New Delhi. It is located in northern India and serves as the seat of all three branches of the Government of India. New Delhi is a district within the larger metropolitan area of Delhi. The city was designed by British architects Sir Edwin Lutyens and Sir Herbert Baker and was inaugurated as the capital in 1931. Some notable landmarks in New Delhi include the India Gate, Rashtrapati Bhavan (Presidential Palace), and the Parliament House.'}]\n"
     ]
    }
   ],
   "source": [
    "messages = []\n",
    "\n",
    "add_user_message(messages, \"Hello, how are you?\")\n",
    "\n",
    "answer = chat(messages)\n",
    "\n",
    "add_assistant_message(messages, answer)\n",
    "\n",
    "add_user_message(messages, \"What is the capital of France?\")\n",
    "\n",
    "answer = chat(messages)\n",
    "\n",
    "add_assistant_message(messages, answer)\n",
    "\n",
    "add_user_message(messages, \"What is the capital of India?\")\n",
    "\n",
    "answer = chat(messages)\n",
    "\n",
    "add_assistant_message(messages, answer)\n",
    "\n",
    "print(messages)"
   ]
  },
  {
   "cell_type": "code",
   "execution_count": 10,
   "id": "8942ba0e",
   "metadata": {},
   "outputs": [
    {
     "name": "stdout",
     "output_type": "stream",
     "text": [
      "[{'role': 'user', 'content': 'Hello, how are you?'}, {'role': 'assistant', 'content': \"I'm doing well, thank you for asking! How are you today?\"}, {'role': 'user', 'content': 'What is the capital of France?'}, {'role': 'assistant', 'content': 'The capital of France is Paris. It is also the largest city in France and one of the most important cultural, economic, and political centers in Europe. Paris is known for many famous landmarks including the Eiffel Tower, the Louvre Museum, Notre-Dame Cathedral, and the Arc de Triomphe.'}, {'role': 'user', 'content': 'What is the capital of India?'}, {'role': 'assistant', 'content': 'The capital of India is New Delhi. It is located in the northern part of the country and serves as the seat of all three branches of the Government of India. New Delhi is actually a part of the larger metropolitan area of Delhi. The city was designed by British architects Sir Edwin Lutyens and Sir Herbert Baker and was officially inaugurated as the capital of British India in 1931. Today, it is a major political, cultural, and commercial center of India.'}]\n"
     ]
    }
   ],
   "source": [
    "print(messages)"
   ]
  },
  {
   "cell_type": "code",
   "execution_count": null,
   "id": "1e3cd1b4",
   "metadata": {},
   "outputs": [],
   "source": [
    "messages = []\n",
    "\n",
    "while True:\n",
    "    user_input = input(\"You: \")\n",
    "    add_user_message(messages, user_input)\n",
    "    answer = chat(messages, system=\"You are a patient math tutor. Guide user to solve the problem step by step. Do not give the answer directly.\")\n",
    "    add_assistant_message(messages, answer)\n",
    "    print(f\"Assistant: {answer}\")"
   ]
  },
  {
   "cell_type": "code",
   "execution_count": 22,
   "id": "88a5ef96",
   "metadata": {},
   "outputs": [
    {
     "name": "stdout",
     "output_type": "stream",
     "text": [
      "RawMessageStartEvent(message=Message(id='msg_013c1Wr2qhkjxw4B8jTyED42', content=[], model='claude-3-5-sonnet-20241022', role='assistant', stop_reason=None, stop_sequence=None, type='message', usage=Usage(cache_creation_input_tokens=0, cache_read_input_tokens=0, input_tokens=15, output_tokens=5, server_tool_use=None, service_tier='standard')), type='message_start')\n",
      "RawContentBlockStartEvent(content_block=TextBlock(citations=None, text='', type='text'), index=0, type='content_block_start')\n",
      "RawContentBlockDeltaEvent(delta=TextDelta(text=\"Here's a two line\", type='text_delta'), index=0, type='content_block_delta')\n",
      "RawContentBlockDeltaEvent(delta=TextDelta(text=' poem about a cat:', type='text_delta'), index=0, type='content_block_delta')\n",
      "RawContentBlockDeltaEvent(delta=TextDelta(text='\\n\\nWhiskers t', type='text_delta'), index=0, type='content_block_delta')\n",
      "RawContentBlockDeltaEvent(delta=TextDelta(text='witching in', type='text_delta'), index=0, type='content_block_delta')\n",
      "RawContentBlockDeltaEvent(delta=TextDelta(text=' the night,\\nGolden', type='text_delta'), index=0, type='content_block_delta')\n",
      "RawContentBlockDeltaEvent(delta=TextDelta(text=' eyes filled with delight.', type='text_delta'), index=0, type='content_block_delta')\n",
      "RawContentBlockStopEvent(index=0, type='content_block_stop')\n",
      "RawMessageDeltaEvent(delta=Delta(stop_reason='end_turn', stop_sequence=None), type='message_delta', usage=MessageDeltaUsage(cache_creation_input_tokens=None, cache_read_input_tokens=None, input_tokens=None, output_tokens=32, server_tool_use=None))\n",
      "RawMessageStopEvent(type='message_stop')\n"
     ]
    }
   ],
   "source": [
    "messages = []\n",
    "\n",
    "add_user_message(messages, \"Write a two line poem about a cat\")\n",
    "\n",
    "stream =client.messages.create(\n",
    "    model=model,\n",
    "    max_tokens=1000,\n",
    "    messages=messages,\n",
    "    stream=True\n",
    ")\n",
    "\n",
    "for event in stream:\n",
    "    print(event)"
   ]
  },
  {
   "cell_type": "code",
   "execution_count": null,
   "id": "3bc0f67f",
   "metadata": {},
   "outputs": [
    {
     "name": "stdout",
     "output_type": "stream",
     "text": [
      "Here's a two line poem about a cat:\n",
      "\n",
      "Silently stalking through shadows at night,\n",
      "Golden eyes glowing with predator's might."
     ]
    },
    {
     "data": {
      "text/plain": [
       "Message(id='msg_01BADUyCvFdzPduyhaRCDUjV', content=[TextBlock(citations=None, text=\"Here's a two line poem about a cat:\\n\\nSilently stalking through shadows at night,\\nGolden eyes glowing with predator's might.\", type='text')], model='claude-3-5-sonnet-20241022', role='assistant', stop_reason='end_turn', stop_sequence=None, type='message', usage=Usage(cache_creation_input_tokens=0, cache_read_input_tokens=0, input_tokens=15, output_tokens=35, server_tool_use=None, service_tier='standard'))"
      ]
     },
     "execution_count": 27,
     "metadata": {},
     "output_type": "execute_result"
    }
   ],
   "source": [
    "# Response Streaming\n",
    "\n",
    "messages = []\n",
    "\n",
    "add_user_message(messages, \"Write a two line poem about a cat\")\n",
    "\n",
    "with client.messages.stream(\n",
    "    model=model,\n",
    "    max_tokens=1000,\n",
    "    messages=messages\n",
    ") as stream:\n",
    "    for text in stream.text_stream:\n",
    "        print(text, end=\"\")\n",
    "\n",
    "stream.get_final_message()"
   ]
  },
  {
   "cell_type": "code",
   "execution_count": 30,
   "id": "b78713fd",
   "metadata": {},
   "outputs": [
    {
     "name": "stdout",
     "output_type": "stream",
     "text": [
      " tea has more health benefits and less caffeine than coffee. Tea has antioxidants called polyphenols and flavonoids that help reduce inflammation and protect against diseases. Green tea is especially healthy because it has high levels of EGCG, a powerful antioxidant. Coffee can be healthy too, but high amounts of caffeine can cause anxiety, insomnia, and other issues. Both tea and coffee have their benefits, but tea is generally considered healthier overall.\n"
     ]
    }
   ],
   "source": [
    "# Controlling model output\n",
    "\n",
    "messages = []\n",
    "\n",
    "add_user_message(messages, \"is tea or coffee better for you?\")\n",
    "\n",
    "# add_assistant_message(messages, \"Coffee is better because\")\n",
    "add_assistant_message(messages, \"Tea is better because\")\n",
    "\n",
    "\n",
    "answer = chat(messages)\n",
    "\n",
    "print(answer)"
   ]
  },
  {
   "cell_type": "code",
   "execution_count": 36,
   "id": "e6da3945",
   "metadata": {},
   "outputs": [
    {
     "name": "stdout",
     "output_type": "stream",
     "text": [
      "1\n",
      "2\n",
      "3\n",
      "4\n",
      "\n"
     ]
    }
   ],
   "source": [
    "# Stop sequences\n",
    "\n",
    "def chat(messages, system=None, temperature=1.0, stop_sequences=[]):\n",
    "    params = {\n",
    "        \"model\": model,\n",
    "        \"max_tokens\": 1000,\n",
    "        \"messages\": messages,\n",
    "        \"temperature\": temperature,\n",
    "        \"stop_sequences\": stop_sequences\n",
    "    }\n",
    "    message = client.messages.create(**params)\n",
    "    return message.content[0].text\n",
    "\n",
    "messages = []\n",
    "\n",
    "add_user_message(messages, \"count to 10\")\n",
    "\n",
    "answer = chat(messages, stop_sequences=[\"5\"])\n",
    "\n",
    "print(answer)"
   ]
  },
  {
   "cell_type": "markdown",
   "id": "b637512a",
   "metadata": {},
   "source": [
    "Structured Data"
   ]
  },
  {
   "cell_type": "code",
   "execution_count": 38,
   "id": "beb1e889",
   "metadata": {},
   "outputs": [],
   "source": [
    "messages = []\n",
    "\n",
    "add_user_message(messages, \"Generate a very short event bridge rule as json\")\n",
    "add_assistant_message(messages, \"```json\")\n",
    "\n",
    "text =chat(messages, stop_sequences=[\"```\"])"
   ]
  },
  {
   "cell_type": "code",
   "execution_count": 39,
   "id": "ad889727",
   "metadata": {},
   "outputs": [
    {
     "data": {
      "text/plain": [
       "{'source': ['aws.ec2'],\n",
       " 'detail-type': ['EC2 Instance State-change Notification'],\n",
       " 'detail': {'state': ['running', 'stopped']}}"
      ]
     },
     "execution_count": 39,
     "metadata": {},
     "output_type": "execute_result"
    }
   ],
   "source": [
    "import json\n",
    "\n",
    "json.loads(text.strip())"
   ]
  }
 ],
 "metadata": {
  "kernelspec": {
   "display_name": "Python 3",
   "language": "python",
   "name": "python3"
  },
  "language_info": {
   "codemirror_mode": {
    "name": "ipython",
    "version": 3
   },
   "file_extension": ".py",
   "mimetype": "text/x-python",
   "name": "python",
   "nbconvert_exporter": "python",
   "pygments_lexer": "ipython3",
   "version": "3.13.5"
  }
 },
 "nbformat": 4,
 "nbformat_minor": 5
}
